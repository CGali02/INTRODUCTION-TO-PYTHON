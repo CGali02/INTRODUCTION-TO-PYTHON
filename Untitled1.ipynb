{
  "nbformat": 4,
  "nbformat_minor": 0,
  "metadata": {
    "colab": {
      "name": "Untitled1.ipynb",
      "provenance": [],
      "collapsed_sections": []
    },
    "kernelspec": {
      "name": "python3",
      "display_name": "Python 3"
    },
    "language_info": {
      "name": "python"
    }
  },
  "cells": [
    {
      "cell_type": "markdown",
      "metadata": {
        "id": "5L2b8kVd75hG"
      },
      "source": [
        "---\n",
        "#PYTHON'S HISTORY    \n",
        "---\n",
        "##*Easy and friendly programming*\n",
        "\n",
        "---\n",
        "![](https://oodoo.com.mx/wp-content/uploads/2020/06/python_logo.png)\n",
        "\n",
        "---\n",
        "\n",
        "Programming is one of the most powerful and necessary tools in today's world, this powerful tool gives scope to endless possibilities, making it the basis of today's accelerated scientific and technological development.\n",
        "Added to this, programming is the precursor to globalization, giving it an even more important place in the history of human development.\n",
        "The problem arises at the time of programming, since many people are complicated by this task, people with ideas of applications and programs could not be to develop them due to the complexity of this task.\n",
        "The launch of \"Python\" was revolutionary for this problem and in this article we will know more about it ...\n",
        "\n"
      ]
    },
    {
      "cell_type": "markdown",
      "metadata": {
        "id": "M-KX17Z94XDM"
      },
      "source": [
        "# Python (History & more) \n",
        "\n",
        "Python is an accessible, multi-paradigm (means that everyone can take their own style to code), easy to use, multiplatform (compatible with different operating systems) programming language.\n",
        "According with Machuca (2021) the main applications of this programming language are in Big Data, AI (Artificial Intelligence), Data Science, test frameworks and web development.    \n",
        "Python's philosophy is to pay special attention to the readability of the code, making it as friendly as possible for the developer and that this language resembles as much as possible a conversation between the computer and the programmer.\n",
        "\n",
        "Python was created by Guido van Rossum in the late 80s and early 90s more specifically in 1991.\n",
        "\n",
        "![](https://www.ecured.cu/images/thumb/e/e3/200px-Guido_van_Rossum_OSCON_2006.jpg/260px-200px-Guido_van_Rossum_OSCON_2006.jpg)\n",
        "\n",
        "In Rossum's own words\n",
        "\n",
        "“… Six years ago, in December 1989, I was looking for a programming hobby project that would keep me busy during the Christmas weeks. My office would be closed and I would have nothing but my home computer to hand. I decided to write an interpreter for the new scripting language I had recently been coming up with: a descendant of ABC that Unix / c hackers would like. I chose the Python name for the project, finding myself in a slightly irreverent frame of mind (and being a huge fan of Monty Python’s Flying Circus). ”\n",
        "\n",
        "The Python programming language uses code modules that are interchangeable instead of a long list of instructions that was standard for functional programming languages.\n",
        "The standard Python implementation is called \"cpython\".\n",
        "Converting it to something called byte code. This byte code cannot be understood by the CPU. So we need an interpreter called Python Virtual Machine (PVM) that executes the bytecodes.\n",
        "\n",
        "According with aula21(w/d) The Python interpreter performs the following tasks to run a program:\n",
        "\n",
        "Step 1: The interpreter reads a python code or instruction. Then it checks that the instruction is well formatted, that is, it checks the syntax of each line. If it finds any errors, it immediately stops the translation and displays an error message.\n",
        "\n",
        "Step 2: If there are no errors, that is, if the instruction or the python code is well formatted, the interpreter translates it into its equivalent form in an intermediate language called \"Byte code\". Thus, after successful execution of script or python code, it is completely translated into Byte code.\n",
        "\n",
        "Step 3: The byte code is sent to the Python Virtual Machine, where the byte code is again executed in PVM. If an error occurs during this run, the run stops with an error message.\n",
        "\n",
        "\n",
        "![](https://oregoom.com/wp-content/uploads/2020/08/funcion-de-python.jpg)\n",
        "\n",
        "\n"
      ]
    },
    {
      "cell_type": "markdown",
      "metadata": {
        "id": "MHtg8XDF7OAJ"
      },
      "source": [
        "# Python language examples\n",
        "\n",
        "Next, an introduction to the subject of the Python programming language will be given examples and to contextualize everything that we have talked about the simplicity that this language has.\n",
        "\n",
        "\n",
        "\n"
      ]
    },
    {
      "cell_type": "markdown",
      "metadata": {
        "id": "AKO-u5k2wPOd"
      },
      "source": [
        "# 1.- Print Statement\n",
        "1. 1 Print text"
      ]
    },
    {
      "cell_type": "code",
      "metadata": {
        "colab": {
          "base_uri": "https://localhost:8080/"
        },
        "id": "tk_JN5-NU491",
        "outputId": "c031ad3d-82b0-42e5-eeaa-cfe6223eeb0d"
      },
      "source": [
        "print(\"Hello world\")"
      ],
      "execution_count": 19,
      "outputs": [
        {
          "output_type": "stream",
          "name": "stdout",
          "text": [
            "Hello world\n"
          ]
        }
      ]
    },
    {
      "cell_type": "markdown",
      "metadata": {
        "id": "2Qi6U6NuWhVZ"
      },
      "source": [
        "1. 2 Print an equation \n",
        "\n",
        "If you want to print the ecuation you need to put (\"\") but if you want to solve it you just need to skip this"
      ]
    },
    {
      "cell_type": "code",
      "metadata": {
        "colab": {
          "base_uri": "https://localhost:8080/"
        },
        "id": "ye3G87mrWuXN",
        "outputId": "7254c648-a81b-4d05-d044-3304ff5c1294"
      },
      "source": [
        "print(\"(2+5)/8\")\n",
        "print((2+5)/8)"
      ],
      "execution_count": 20,
      "outputs": [
        {
          "output_type": "stream",
          "name": "stdout",
          "text": [
            "(2+5)/8\n",
            "0.875\n"
          ]
        }
      ]
    },
    {
      "cell_type": "markdown",
      "metadata": {
        "id": "gZ_OIGKLYMFH"
      },
      "source": [
        "1. 3 Print a variable\n",
        "\n",
        "Here is a small detail and that is that the variable must be declared in the cell in which it will be used or, failing that, it must be previously declared and executed."
      ]
    },
    {
      "cell_type": "code",
      "metadata": {
        "colab": {
          "base_uri": "https://localhost:8080/"
        },
        "id": "36uStz3MXIvY",
        "outputId": "4617c048-8041-4b99-a5a7-fd7f221f596d"
      },
      "source": [
        "x = \"Hola mundo\"\n",
        "print(x)"
      ],
      "execution_count": 21,
      "outputs": [
        {
          "output_type": "stream",
          "name": "stdout",
          "text": [
            "Hola mundo\n"
          ]
        }
      ]
    },
    {
      "cell_type": "markdown",
      "metadata": {
        "id": "MZBccS4PXPjr"
      },
      "source": [
        "\n",
        "1. 4 Print a variable & text at the same time\n",
        "\n",
        "You need tu put a letter \"f\" before\n"
      ]
    },
    {
      "cell_type": "code",
      "metadata": {
        "colab": {
          "base_uri": "https://localhost:8080/"
        },
        "id": "ToEGryDdZhMm",
        "outputId": "41bb3bb1-4124-4365-98b1-4d9bc1d9c18f"
      },
      "source": [
        "world = \"Python\"\n",
        "print(f\"Welcome to {world}'s world'\")"
      ],
      "execution_count": 22,
      "outputs": [
        {
          "output_type": "stream",
          "name": "stdout",
          "text": [
            "Welcome to Python's world'\n"
          ]
        }
      ]
    },
    {
      "cell_type": "markdown",
      "metadata": {
        "id": "L4floUo2Z_jy"
      },
      "source": [
        "1. 5 Asking for an input"
      ]
    },
    {
      "cell_type": "code",
      "metadata": {
        "colab": {
          "base_uri": "https://localhost:8080/"
        },
        "id": "O9oYvNygZ_tH",
        "outputId": "498b02f5-ba79-415d-e70a-abf9896fb9a5"
      },
      "source": [
        "\n",
        "World = input(\"What's your programming languaje\")\n",
        "message = \"Welcome back to the world of {}\"\n",
        "print(message.format(world))"
      ],
      "execution_count": 23,
      "outputs": [
        {
          "output_type": "stream",
          "name": "stdout",
          "text": [
            "What's your programming languajepython\n",
            "Welcome back to the world of Python\n"
          ]
        }
      ]
    },
    {
      "cell_type": "markdown",
      "metadata": {
        "id": "NEtZiwQGbra3"
      },
      "source": [
        "# 2.- If, Else, Elif Statement\n",
        "\n",
        "2. 1 If Statement"
      ]
    },
    {
      "cell_type": "code",
      "metadata": {
        "colab": {
          "base_uri": "https://localhost:8080/"
        },
        "id": "YsfFPr3ydCG2",
        "outputId": "a51d74ba-9ddb-4545-e812-d2ef04e93787"
      },
      "source": [
        "Juan = 50\n",
        "Pablo = 40\n",
        "if a > b : \n",
        " print(\"Juan is older than Pablo\")"
      ],
      "execution_count": 29,
      "outputs": [
        {
          "output_type": "stream",
          "name": "stdout",
          "text": [
            "Juan is older than Pablo\n"
          ]
        }
      ]
    },
    {
      "cell_type": "markdown",
      "metadata": {
        "id": "U2YD8QW_dawN"
      },
      "source": [
        "Here you can see that Juan is older than Pablo, so the programm print the message, but if Juan were younger?"
      ]
    },
    {
      "cell_type": "code",
      "metadata": {
        "colab": {
          "base_uri": "https://localhost:8080/"
        },
        "id": "ux8b1nOUdbC1",
        "outputId": "4942f456-8f84-4764-a91c-9c9d621cc395"
      },
      "source": [
        "Juan = 25\n",
        "Pablo = 40\n",
        "if a > b : \n",
        " print(\"Juan is older than Pablo\")"
      ],
      "execution_count": 28,
      "outputs": [
        {
          "output_type": "stream",
          "name": "stdout",
          "text": [
            "Juan is older than Pablo\n"
          ]
        }
      ]
    },
    {
      "cell_type": "markdown",
      "metadata": {
        "id": "Wi46UfJ7d_m1"
      },
      "source": [
        "The message isn't printed because the condicion wasn't true"
      ]
    },
    {
      "cell_type": "markdown",
      "metadata": {
        "id": "wd4HWZ9oewzE"
      },
      "source": [
        "2. 2 Logical statements\n",
        "\n",
        "Here the logical operators are used, to learn more about them there is a very complete article about the subject ---> [logical statements](https://entrenamiento-python-basico.readthedocs.io/es/latest/leccion4/operadores_logicos.html)"
      ]
    },
    {
      "cell_type": "code",
      "metadata": {
        "colab": {
          "base_uri": "https://localhost:8080/"
        },
        "id": "bocXgDpLe53o",
        "outputId": "4f4e51c7-1777-4f45-8c33-b0b38476baad"
      },
      "source": [
        "Juan = 12\n",
        "Pablo = 15\n",
        "Roberto = 14\n",
        "Edad = 18\n",
        "if Edad >= Pablo and Edad >= Juan and Edad >= Roberto:\n",
        " print(\"Todos son menores de edad\")"
      ],
      "execution_count": 34,
      "outputs": [
        {
          "output_type": "stream",
          "name": "stdout",
          "text": [
            "Todos son menores de edad\n"
          ]
        }
      ]
    },
    {
      "cell_type": "markdown",
      "metadata": {
        "id": "JEM-BCo7hB0d"
      },
      "source": [
        "2. 3 Else Statement\n",
        "\n",
        "The else statement enters when the original if statement is not true not hold"
      ]
    },
    {
      "cell_type": "code",
      "metadata": {
        "colab": {
          "base_uri": "https://localhost:8080/"
        },
        "id": "-ebUT3N7hbRr",
        "outputId": "79012b94-8ea5-4223-8cc4-f48b7770f74d"
      },
      "source": [
        "Juan = 18\n",
        "Roberto = 20\n",
        "if Juan > Roberto:\n",
        "    print(\"Juan is older \")\n",
        "else:\n",
        "    print(\"Juan is younger \")"
      ],
      "execution_count": 44,
      "outputs": [
        {
          "output_type": "stream",
          "name": "stdout",
          "text": [
            "Juan is younger \n"
          ]
        }
      ]
    },
    {
      "cell_type": "code",
      "metadata": {
        "colab": {
          "base_uri": "https://localhost:8080/"
        },
        "id": "8k0AjHgdiHED",
        "outputId": "d6ad9b61-76ef-49f3-df48-eca82c3c631d"
      },
      "source": [
        "Juan = 22\n",
        "Roberto = 20\n",
        "if Juan > Roberto:\n",
        "    print(\"Juan is older \")\n",
        "else:\n",
        "    print(\"Juan is younger \")"
      ],
      "execution_count": 46,
      "outputs": [
        {
          "output_type": "stream",
          "name": "stdout",
          "text": [
            "Juan is older \n"
          ]
        }
      ]
    },
    {
      "cell_type": "markdown",
      "metadata": {
        "id": "JJAvnRTDjcxr"
      },
      "source": [
        "2. 4 Elif Statement \n",
        "\n",
        "This statment is used when there are a number of conditions that are not true, it works like the phrase (if not)"
      ]
    },
    {
      "cell_type": "code",
      "metadata": {
        "colab": {
          "base_uri": "https://localhost:8080/"
        },
        "id": "OYzcTJszjc6j",
        "outputId": "a9fa217d-df61-45a3-b519-8ed9e8ad117e"
      },
      "source": [
        "Juan = 15\n",
        "Roberto = 15\n",
        "if Juan < Roberto:\n",
        "    print(\"Juan is youger than Roberto\")\n",
        "elif Juan > Roberto:\n",
        "    print(\"Juan is older than Roberto\")\n",
        "else:\n",
        "    print(\"Juan and Roberto have are same age\")"
      ],
      "execution_count": 47,
      "outputs": [
        {
          "output_type": "stream",
          "name": "stdout",
          "text": [
            "Juan and Roberto have the same age\n"
          ]
        }
      ]
    },
    {
      "cell_type": "markdown",
      "metadata": {
        "id": "_-1fqLs2m9az"
      },
      "source": [
        "# 3.- Loops \n",
        "3. 1 For loops\n",
        "\n",
        "For loops allow you to run one or more statements iteratively, once for each item in the collection."
      ]
    },
    {
      "cell_type": "code",
      "metadata": {
        "colab": {
          "base_uri": "https://localhost:8080/"
        },
        "id": "vN5ORGKdodag",
        "outputId": "1cc0b63f-ccd1-4cda-d94c-e43b14ebf2a4"
      },
      "source": [
        "for contador in range(1,10):\n",
        "  print (contador)"
      ],
      "execution_count": 58,
      "outputs": [
        {
          "output_type": "stream",
          "name": "stdout",
          "text": [
            "1\n",
            "2\n",
            "3\n",
            "4\n",
            "5\n",
            "6\n",
            "7\n",
            "8\n",
            "9\n"
          ]
        }
      ]
    },
    {
      "cell_type": "markdown",
      "metadata": {
        "id": "4r3ntUpMpA-f"
      },
      "source": [
        "3. 2 \"Dictionary\"\n",
        "\n",
        "If you want to iterate over a dictionary."
      ]
    },
    {
      "cell_type": "code",
      "metadata": {
        "colab": {
          "base_uri": "https://localhost:8080/"
        },
        "id": "Q5w1Dvy0pRij",
        "outputId": "c2a57290-540d-4269-8387-435320ebbab3"
      },
      "source": [
        "frutas = {'Fresa':'roja', 'Limon':'verde', 'Papaya':'naranja', 'Manzana':'amarilla', 'Guayaba':'rosa'}\n",
        "for nombre,color in frutas.items():\n",
        "   print((nombre),\"es de color\",(color))\n",
        "\n",
        " "
      ],
      "execution_count": 79,
      "outputs": [
        {
          "output_type": "stream",
          "name": "stdout",
          "text": [
            "Fresa es de color roja\n",
            "Limon es de color verde\n",
            "Papaya es de color naranja\n",
            "Manzana es de color amarilla\n",
            "Guayaba es de color rosa\n"
          ]
        }
      ]
    },
    {
      "cell_type": "markdown",
      "metadata": {
        "id": "xPfc73oZrKNP"
      },
      "source": [
        "3. 3 While loop\n",
        "\n",
        "The while loop allows executing a block of instructions as long as the given condition is met."
      ]
    },
    {
      "cell_type": "code",
      "metadata": {
        "colab": {
          "base_uri": "https://localhost:8080/"
        },
        "id": "dqhoRFDtrchU",
        "outputId": "96c8a0a5-4abf-4ee2-a37a-1ea5a385ee97"
      },
      "source": [
        "numero = 0\n",
        "while numero <= 10:\n",
        "  print(numero)\n",
        "  numero += 1"
      ],
      "execution_count": 82,
      "outputs": [
        {
          "output_type": "stream",
          "name": "stdout",
          "text": [
            "0\n",
            "1\n",
            "2\n",
            "3\n",
            "4\n",
            "5\n",
            "6\n",
            "7\n",
            "8\n",
            "9\n",
            "10\n"
          ]
        }
      ]
    },
    {
      "cell_type": "markdown",
      "metadata": {
        "id": "SsZVJn1GuzKI"
      },
      "source": [
        "# EXTRA"
      ]
    },
    {
      "cell_type": "code",
      "metadata": {
        "id": "jMcJ0abkshpo"
      },
      "source": [
        "y= (\"si\")\n",
        "x = input(\"If you what my data say si \")\n",
        "if x==y:\n",
        "  print(\"Universidad Tecnologica de Altamira, Teacher .- Jesus Rafael Dominguez Torres, Student.- Christian David Rodriguez Gali, Code.- 492010713,Grade and Group .- MEC 3A\")\n",
        "else:\n",
        "    print(\"See you :)\")\n"
      ],
      "execution_count": null,
      "outputs": []
    },
    {
      "cell_type": "markdown",
      "metadata": {
        "id": "myNNtROGruPW"
      },
      "source": [
        "Universidad Tecnologica de Altamira\n",
        "\n",
        "Teacher .- Jesus Rafael Dominguez Torres\n",
        "\n",
        "Student.- Christian David Rodriguez Gali\n",
        "\n",
        "Code.- 492010713\n",
        "\n",
        "Grade and Group .- MEC 3A\n"
      ]
    }
  ]
}